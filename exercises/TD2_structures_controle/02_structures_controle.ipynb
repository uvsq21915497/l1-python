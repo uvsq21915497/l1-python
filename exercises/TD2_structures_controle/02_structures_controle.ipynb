{
 "cells": [
  {
   "cell_type": "markdown",
   "metadata": {
    "slideshow": {
     "slide_type": "slide"
    }
   },
   "source": [
    "# TD 2: Les structures de contrôle\n",
    "\n",
    "---\n",
    "\n",
    "## 0. Récupération des nouveaux documents\n",
    "\n",
    "\n",
    "Les sujets de TD ainsi que les supports de cours sont publiés en ligne au fur et à mesure sur l'espace github original [https://github.com/uvsq-info/l1-python](https://github.com/uvsq-info/l1-python). Au moment où vous avez fait le fork de cet espace sur votre espace personnel, il est probable que tous les contenus n'étaient pas présents. Pour compléter votre espace, deux solutions sont possibles:\n",
    "\n",
    "\n",
    "1. (solution à privilégier) aller sur la page du projet original [https://github.com/uvsq-info/l1-python](https://github.com/uvsq-info/l1-python), et cliquer sur le bouton vert `Code` en haut à droite. Choisir `download ZIP`, puis extraire l'ensemble des nouveaux fichiers vers votre projet personnel local. Vous pouvez ensuite sauvegarder ces ajouts dans votre espace github personnel en suivant la procédure habituelle.\n",
    "2. (solution qui présente des risques de conflits entre différentes versions d'un même document) en ligne de commande dans le terminal, en suivant la procédure de la section *Intégrer les mises à jour du projet original* du fichier [README.md](https://github.com/uvsq-info/l1-python/blob/master/README.md#int%C3%A9grer-les-mises-%C3%A0-jour-du-projet-original)\n"
   ]
  },
  {
   "cell_type": "markdown",
   "metadata": {
    "slideshow": {
     "slide_type": "slide"
    }
   },
   "source": [
    "---\n",
    "\n",
    "## 1. Premiers exercices avec les structures conditionnelles\n",
    "\n",
    "**Exercice 1:**\n",
    "\n",
    "1. Soit *num1 = 15* et *num2 = 5*. Ecrire un programme qui affiche *Factors!* si l'un des nombres est un facteur de l'autre (c'est-à-dire qu'il divise l'autre nombre). Si aucun des nombres n'est un facteur de l'autre, le programme n'affiche rien.\n",
    "2. Changer le code que vous avez écrit de telle sorte qu'il affiche toujours *Factors!* si un nombre est un facteur de l'autre, mais qui affiche aussi *Not factors!* si aucun des nombres n'est un facteur de l'autre."
   ]
  },
  {
   "cell_type": "code",
   "execution_count": 5,
   "metadata": {
    "slideshow": {
     "slide_type": "notes"
    }
   },
   "outputs": [
    {
     "output_type": "stream",
     "name": "stdout",
     "text": [
      "Factors!\n"
     ]
    }
   ],
   "source": [
    "num1 = 15\n",
    "num2 = 5\n",
    "if (num1 % num2 == 0) or (num2 % num1 ==0):\n",
    "    print(\"Factors!\")\n",
    "else:\n",
    "    print(\"Not Factors!\")"
   ]
  },
  {
   "cell_type": "markdown",
   "metadata": {
    "slideshow": {
     "slide_type": "slide"
    }
   },
   "source": [
    "**Exercice 2:**\n",
    "    \n",
    "Soit *state = \"Georgia\"*. Ecrire un programme qui permet d'afficher un message spécifique en fonction de la variable *state* :  \n",
    "* \"School isn't cancelled.\" si nous sommes à New Jersey,  \n",
    "* \"School is postponed.\" si nous sommes à North Carolina,\n",
    "* \"School is cancelled!\" si nous sommes à Georgia,  \n",
    "* \"School's status is unknown\" si nous ne sommes pas dans un des trois états précédemment mentionnés."
   ]
  },
  {
   "cell_type": "code",
   "execution_count": 6,
   "metadata": {
    "slideshow": {
     "slide_type": "notes"
    }
   },
   "outputs": [
    {
     "output_type": "stream",
     "name": "stdout",
     "text": [
      "School is cancelled\n"
     ]
    }
   ],
   "source": [
    "State = \"Georgia\"\n",
    "if State == \"New Jersey\":\n",
    "    print(\"School isn't cancelled\")\n",
    "elif State == \"North Carolina\":\n",
    "    print(\"School is postponed\")\n",
    "elif State == \"Georgia\":\n",
    "    print(\"School is cancelled\")\n",
    "else:\n",
    "    print(\"School's status is unknown\")\n"
   ]
  },
  {
   "cell_type": "markdown",
   "metadata": {
    "slideshow": {
     "slide_type": "slide"
    }
   },
   "source": [
    "**Exercice 3:**\n",
    "\n",
    "Ecrire un programme pour découvrir le signe du zodiaque chinois pour une année donnée. Le signe du zodiaque chinois est basé sur un cycle de 12 ans et chaque année de ce cycle est représentée par un animal :\n",
    "* 0: monkey\n",
    "* 1: rooster\n",
    "* 2: dog\n",
    "* 3: pig\n",
    "* 4: rat\n",
    "* 5: ox\n",
    "* 6: tiger\n",
    "* 7: rabbit\n",
    "* 8: dragon\n",
    "* 9: snake\n",
    "* 10: horse\n",
    "* 11: sheep\n",
    "\n",
    "La valeur de l'année % 12 détermine le signe du zodiaque. Par exemple, 1900 est l'année du *rat* puisque 1900 % 12 est 4."
   ]
  },
  {
   "cell_type": "code",
   "execution_count": 8,
   "metadata": {
    "slideshow": {
     "slide_type": "notes"
    }
   },
   "outputs": [
    {
     "output_type": "stream",
     "name": "stdout",
     "text": [
      "horse\n"
     ]
    }
   ],
   "source": [
    "annee_de_naissance = int(input(\"Quel est ton année de naissance ?\"))\n",
    "if annee_de_naissance % 12 == 0:\n",
    "    print(\"monkey\")\n",
    "elif annee_de_naissance % 12 == 1:\n",
    "    print(\"rooster\")\n",
    "elif annee_de_naissance % 12 == 2:\n",
    "    print(\"dog\")\n",
    "elif annee_de_naissance % 12 == 3:\n",
    "    print(\"pig\")\n",
    "elif annee_de_naissance % 12 == 4:\n",
    "    print(\"rat\")\n",
    "elif annee_de_naissance % 12 == 5:\n",
    "    print(\"ox\")\n",
    "elif annee_de_naissance % 12 == 6:\n",
    "    print(\"tiger\")\n",
    "elif annee_de_naissance % 12 == 7:\n",
    "    print(\"rabbit\")\n",
    "elif annee_de_naissance % 12 == 8:\n",
    "    print(\"dragon\")\n",
    "elif annee_de_naissance % 12 == 9:\n",
    "    print(\"snake\")\n",
    "elif annee_de_naissance % 12 == 10:\n",
    "    print(\"horse\")\n",
    "elif annee_de_naissance % 12 == 11:\n",
    "    print(\"sheep\")"
   ]
  },
  {
   "cell_type": "markdown",
   "metadata": {
    "slideshow": {
     "slide_type": "slide"
    }
   },
   "source": [
    "**Exercice 4:**\n",
    "\n",
    "Soit *temperature = -3.7* et *celsius = True*. *celsius* est une variable booléenne qui indique si la température est en Celsius; si c'est *False*, alors la température donnée est en Fahrenheit. Ecrire un premier programme en utilisant *if-else* seulement qui permet d'afficher *Freezing* si les valeurs données représentent une température très basse, et *Not freezing* si ce n'est pas le cas. En Celsius, on considère qu'il fait très froid lorsque la température est inférieure ou égale à 0 degré. En Fahrenheit, on considère qu'il fait très froid lorsque la température est inférieure ou égale à 32 degrés. Proposer une seconde solution en utilisant *if-elif-else* à ce même problème."
   ]
  },
  {
   "cell_type": "code",
   "execution_count": 15,
   "metadata": {
    "slideshow": {
     "slide_type": "notes"
    }
   },
   "outputs": [
    {
     "output_type": "stream",
     "name": "stdout",
     "text": [
      "Not Freezing\n"
     ]
    }
   ],
   "source": [
    "temperature = 5\n",
    "celsius = True\n",
    "if celsius and temperature <= 0:\n",
    "    print(\"Freezing\")\n",
    "else: \n",
    "    if not celsius and temperature <= 32:\n",
    "        print(\"Freezing\")\n",
    "    else:\n",
    "        print(\"Not Freezing\")\n"
   ]
  },
  {
   "cell_type": "code",
   "execution_count": 16,
   "metadata": {},
   "outputs": [
    {
     "output_type": "stream",
     "name": "stdout",
     "text": [
      "Not Freezing\n"
     ]
    }
   ],
   "source": [
    "temperature = 5\n",
    "celsius = True \n",
    "if celsius and temperature <= 0:\n",
    "    print(\"Freezing\")\n",
    "elif not celsius and temperature <= 32:\n",
    "    print(\"Freezing\")\n",
    "else:\n",
    "    print(\"Not Freezing\")"
   ]
  },
  {
   "cell_type": "markdown",
   "metadata": {
    "slideshow": {
     "slide_type": "slide"
    }
   },
   "source": [
    "**Exercice 5:**\n",
    "    \n",
    "Ecrire un programme qui permet de déterminer si une année est bissextile ou non en utilisant une seule instruction *if-else*. Une année *A* est bissextile si *A* est divisible par 4. Elle ne l’est cependant pas si *A* est un multiple\n",
    "de 100, à moins que *A* ne soit multiple de 400.    "
   ]
  },
  {
   "cell_type": "code",
   "execution_count": 21,
   "metadata": {
    "slideshow": {
     "slide_type": "notes"
    }
   },
   "outputs": [
    {
     "output_type": "stream",
     "name": "stdout",
     "text": [
      "2015 n'est pas une année bissextile !\n"
     ]
    }
   ],
   "source": [
    "annee = int(input(\"Ecrit une année\"))\n",
    "\n",
    "if annee % 4 == 0 and (annee % 100 != 0 or annee % 400 == 0):\n",
    "    print(annee, \"est une année bissextile\")\n",
    "else:\n",
    "    print(annee, \"n'est pas une année bissextile !\")\n"
   ]
  },
  {
   "source": [
    "---\n",
    "\n",
    "## 2. Premiers exercices avec les structures itératives\n",
    "\n",
    "**Exercice 6:**\n",
    "\n",
    "1. Ecrire un programme qui permet d'afficher tous les nombres entre 1 et 10 (bornes incluses).\n",
    "2. Ecrire un programme se limitant à la boucle *for* qui permet d'afficher tous les nombres pairs entre 1 et 20 (bornes incluses). Proposer une deuxième solution en incluant une structure conditionnelle."
   ],
   "cell_type": "markdown",
   "metadata": {}
  },
  {
   "cell_type": "code",
   "execution_count": 25,
   "metadata": {},
   "outputs": [
    {
     "output_type": "stream",
     "name": "stdout",
     "text": [
      "i= 1\ni= 2\ni= 3\ni= 4\ni= 5\ni= 6\ni= 7\ni= 8\ni= 9\ni= 10\n"
     ]
    }
   ],
   "source": [
    "for i in range(1, 11):\n",
    "    print(\"i=\", i)"
   ]
  },
  {
   "cell_type": "code",
   "execution_count": 7,
   "metadata": {},
   "outputs": [
    {
     "output_type": "stream",
     "name": "stdout",
     "text": [
      "Liste des nombres paires compris entre 1 et 20:\n2\n4\n6\n8\n10\n12\n14\n16\n18\n20\n"
     ]
    }
   ],
   "source": [
    "print(\"Liste des nombres paires compris entre 1 et 20:\")\n",
    "for p in range(2, 21, 2):\n",
    "    print(p)"
   ]
  },
  {
   "cell_type": "code",
   "execution_count": 9,
   "metadata": {},
   "outputs": [
    {
     "output_type": "stream",
     "name": "stdout",
     "text": [
      "Liste des nombres paires compris entre 1 et 20:\n2\n4\n6\n8\n10\n12\n14\n16\n18\n20\n"
     ]
    }
   ],
   "source": [
    "print(\"Liste des nombres paires compris entre 1 et 20:\")\n",
    "for i in range(1, 21):\n",
    "    if i % 2 == 0:\n",
    "        print(i)"
   ]
  },
  {
   "source": [
    "**Exercice 7:**\n",
    "    \n",
    "1. Ecrire un programme qui demande à l'utilisateur de saisir *n* nombres, *n* étant choisi par l'utilisateur, puis d'afficher la moyenne de ces nombres.\n",
    "\n",
    "2. Même question, mais l'utilisateur ne choisit pas à l'avance le nombre *n*, la procédure s'arrête quand il saisit le nombre -1.\n"
   ],
   "cell_type": "markdown",
   "metadata": {}
  },
  {
   "cell_type": "code",
   "execution_count": 20,
   "metadata": {},
   "outputs": [
    {
     "output_type": "stream",
     "name": "stdout",
     "text": [
      "nombre saisi: 8\n",
      "nombre saisi: 8\n",
      "nombre saisi: 5\n",
      "nombre saisi: 4\n",
      "6.25\n"
     ]
    }
   ],
   "source": [
    "#Calculer la moyenne\n",
    "nb_de_n = int(input(\"Combien de nombre figure dans votre liste à calculer ?\"))\n",
    "som = 0\n",
    "for i in range(0, nb_de_n):\n",
    "    nombre = int(input(\"Ecrivez un nombre\"))\n",
    "    print(\"nombre saisi:\", nombre)\n",
    "    som += nombre\n",
    "print(\"la moyenne de ses nombres est :\", som/nb_de_n)\n"
   ]
  },
  {
   "cell_type": "code",
   "execution_count": 5,
   "metadata": {},
   "outputs": [
    {
     "output_type": "stream",
     "name": "stdout",
     "text": [
      "nombre saisi: 5\n",
      "1\n",
      "nombre saisi: 2\n",
      "2\n",
      "nombre saisi: -1\n",
      "3\n",
      "la moyenne de ses nombre est: 2.0\n"
     ]
    }
   ],
   "source": [
    "#question 2\n",
    "som = 0\n",
    "nb_de_n = 0\n",
    "nombre = 0\n",
    "while nombre != -1:\n",
    "    nombre = int(input(\"Donnez un nombre\"))\n",
    "    print(\"nombre saisi:\", nombre)\n",
    "    som += nombre\n",
    "    nb_de_n += 1\n",
    "print(\"la moyenne de ses nombre est:\", som/nb_de_n)"
   ]
  },
  {
   "source": [
    "**Exercice 8:**\n",
    "\n",
    "Ecrire un programme qui permet de calculer le factoriel d'un nombre positif donné par l'utlisateur selon la formule suivante : \n",
    "n! = 1 x 2 x ... x n.  \n",
    "\n",
    "1. Une première version en utilisant la boucle *for*\n",
    "2. Une seconde version en utilisant la boucle *while*"
   ],
   "cell_type": "markdown",
   "metadata": {}
  },
  {
   "cell_type": "code",
   "execution_count": 1,
   "metadata": {},
   "outputs": [
    {
     "output_type": "stream",
     "name": "stdout",
     "text": [
      "5 ! = 120\n"
     ]
    }
   ],
   "source": [
    "#première version\n",
    "nombre = int(input(\"Saisissez un nombre positif\"))\n",
    "fact = 1\n",
    "for i in range(1, nombre + 1):\n",
    "    fact = fact * i\n",
    "print(nombre, \"! =\", fact)\n",
    "    \n"
   ]
  },
  {
   "cell_type": "code",
   "execution_count": 3,
   "metadata": {},
   "outputs": [
    {
     "output_type": "stream",
     "name": "stdout",
     "text": [
      "5 ! = 120\n"
     ]
    }
   ],
   "source": [
    "#deuxième version\n",
    "nombre = int(input(\"Saisit un nombre\"))\n",
    "fact = 1\n",
    "i = 1\n",
    "while nombre != i:\n",
    "    i += 1\n",
    "    fact = fact * i\n",
    "print(nombre, \"! =\", fact)\n"
   ]
  },
  {
   "cell_type": "markdown",
   "metadata": {
    "slideshow": {
     "slide_type": "slide"
    }
   },
   "source": [
    "---\n",
    "\n",
    "## 3. Pour aller plus loin\n",
    "\n",
    "**Excercice 9:**\n",
    "\n",
    "Ecrire un programme qui permet de connaître le jour de naissance de l'utilisateur en posant cinq questions.\n",
    "Chaque question demande si le jour est dans l'un des cinq ensembles suivants :\n",
    "\n",
    "* Set 1: \\[1 3 5 7 9 11 13 15 17 19 21 23 25 27 29 31\\]\n",
    "* Set 2: \\[2 3 6 7 10 11 14 15 18 19 22 23 26 27 30 31\\]\n",
    "* Set 3: \\[4 5 6 7 12 13 14 15 20 21 22 23 28 29 30 31\\]\n",
    "* Set 4: \\[8 9 10 11 12 13 14 15 24 25 26 27 28 29 30 31\\]\n",
    "* Set 5: \\[16 17 18 19 20 21 22 23 24 25 26 27 28 29 30 31\\]\n",
    "    \n",
    "\n",
    "Le jour de naissance est la somme des premiers nombres dans les ensembles où le jour apparaît. Par exemple,\n",
    "si le jour de naissance est 19, il apparaît dans Set 1, Set 2 et Set 5. Les premiers chiffres de ces trois ensembles sont 1, 2 et 16. Leur somme est 19."
   ]
  },
  {
   "cell_type": "code",
   "execution_count": 6,
   "metadata": {
    "slideshow": {
     "slide_type": "notes"
    }
   },
   "outputs": [
    {
     "output_type": "stream",
     "name": "stdout",
     "text": [
      "liste 1: [1 3 5 7 9 11 13 15 17 19 21 23 25 27 29 31]\n",
      "liste 2: [2 3 6 7 10 11 14 15 18 19 22 23 26 27 30 31]\n",
      "liste 3: [4 5 6 7 12 13 14 15 20 21 22 23 28 29 30 31]\n",
      "liste 4: [8 9 10 11 12 13 14 15 24 25 26 27 28 29 30 31]\n",
      "liste 4: [16 17 18 19 20 21 22 23 24 25 26 27 28 29 30 31]\n",
      "Votre jour de naissance est le 17\n"
     ]
    }
   ],
   "source": [
    "print(\"liste 1: [1 3 5 7 9 11 13 15 17 19 21 23 25 27 29 31]\\nliste 2: [2 3 6 7 10 11 14 15 18 19 22 23 26 27 30 31]\\nliste 3: [4 5 6 7 12 13 14 15 20 21 22 23 28 29 30 31]\\nliste 4: [8 9 10 11 12 13 14 15 24 25 26 27 28 29 30 31]\\nliste 4: [16 17 18 19 20 21 22 23 24 25 26 27 28 29 30 31]\")\n",
    "jour_de_naissance = 0\n",
    "\n",
    "for i in range(5):\n",
    "    demande = input(\"Votre jour de naissance est dans la liste \"+ str(i+1) +\" ? ( répondre par oui ou par non\")\n",
    "    if demande == \"oui\" and i == 0:\n",
    "        jour_de_naissance += 1\n",
    "    elif demande == \"oui\" and i == 1:\n",
    "        jour_de_naissance += 2\n",
    "    elif demande == \"oui\" and i == 2:\n",
    "        jour_de_naissance += 4\n",
    "    elif demande == \"oui\" and i == 3:\n",
    "        jour_de_naissance += 8\n",
    "    elif demande == \"oui\" and i == 4:\n",
    "        jour_de_naissance += 16\n",
    "print(\"Votre jour de naissance est le\", jour_de_naissance)\n",
    "        "
   ]
  },
  {
   "cell_type": "markdown",
   "metadata": {
    "slideshow": {
     "slide_type": "slide"
    }
   },
   "source": [
    "**Excercice 10:**\n",
    "\n",
    "Ecrire un programme qui permet de génèrer de manière aléatoire un nombre à deux chiffres, invite l'utilisateur à saisir un nombre à deux chiffres et détermine si l'utilisateur gagne selon les règles suivantes :\n",
    "* Si l'entrée de l'utilisateur correspond à la loterie (le nombre généré aléatoirement) dans l'ordre exact, la récompense est de 10 000€.\n",
    "* Sinon, si les deux chiffres entrés par l'utilisateur correspondent aux deux chiffres du numéro de loterie, la récompense est de 3 000€.\n",
    "* Sinon, si un chiffre dans l'entrée de l'utilisateur correspond à un chiffre dans le numéro de loterie, la récompense est de 1 000€.\n",
    "\n",
    "**Astuce :** Utiliser la fonction **random.randint(0, 99)** pour génèrer de manière aléatoire un nombre à deux chiffres. Cette fonction doit être accompagné par **import random** comme première instruction dans le code."
   ]
  },
  {
   "cell_type": "code",
   "execution_count": 11,
   "metadata": {},
   "outputs": [
    {
     "output_type": "stream",
     "name": "stdout",
     "text": [
      "Trouve le nombre à deux chiffres !\n",
      "\n",
      "Oups, bien tenté ! Essaye encore une fois ;) ! Le bon nombre était 82\n"
     ]
    }
   ],
   "source": [
    "import random\n",
    "\n",
    "nombre_cherche = random.randint(10, 99)\n",
    "print(\"Trouve le nombre à deux chiffres !\\n\")\n",
    "nombre_utilisateur = int(input(\"Quel est le nombre d'après toi ?:\"))\n",
    "inverse = lambda n: int(str(n)[::1])\n",
    "\n",
    "\n",
    "if nombre_cherche == nombre_utilisateur:\n",
    "  print(\"Trouvé ! Félicitation tu as gagné 10 000 euro\")\n",
    "elif nombre_cherche == inverse(nombre_utilisateur):\n",
    "  print(\"Presque ! C'était\", nombre_cherche, \"! Tu as gagné 3 000 euro!\")\n",
    "elif str(nombre_utilisateur)[0] in str(nombre_cherche) or str(nombre_utilisateur)[1] in str(nombre_cherche):\n",
    "  print(\"Aggrr, tu as trouvé qu'un chiffre sur deux ! Le bon nombre était :\", nombre_cherche, \"! Tu as tout de même gagné 1 000 euro\")\n",
    "else:\n",
    "  print(\"Oups, bien tenté ! Essaye encore une fois ;) ! Le bon nombre était\", nombre_cherche)"
   ]
  },
  {
   "source": [
    "**Exercice 11:**\n",
    "    \n",
    "Ecrire un programme qui permet de calculer la somme des chiffres d'un entier *n* donné. Le nombre *n* doit être compris entre 10 et 20 (bornes incluses)."
   ],
   "cell_type": "markdown",
   "metadata": {}
  },
  {
   "cell_type": "code",
   "execution_count": 47,
   "metadata": {},
   "outputs": [
    {
     "output_type": "stream",
     "name": "stdout",
     "text": [
      "La somme des chiffres de 19 est 10\n"
     ]
    }
   ],
   "source": [
    "n = int(input(\"Ecris un nombre entier compris entre 10 et 20\"))\n",
    "n_liste = list(range(10, 21))\n",
    "a = str(n)[0]\n",
    "b = str(n)[1]\n",
    "somme = 0\n",
    "\n",
    "if n in n_liste:\n",
    "    somme = int(a) + int(b)\n",
    "    print(\"La somme des chiffres de\", n, \"est\", somme)\n",
    "else:\n",
    "    print(\"Le nombre choisi doit être compris entre 10 et 20. Recommence stp\")\n",
    "\n"
   ]
  },
  {
   "source": [
    "**Exercice 12:**\n",
    "\n",
    "1. Ecrire un programme qui permet de générer aléatoirement deux nombres entre 0 et 9, de calculer leurs différences (en valeur absolue), puis d'inviter l'utilisateur à répondre à la question suivante *que vaut abs(number1 - number2)?*. Le programme doit permettre à l'utilisateur de répondre plusieurs fois jusqu'à la saisie de la bonne réponse.\n",
    "2. Modifier le programme précédent de telle sorte qu'il génère cinq occurences à la suite invitant à répondre à la question précédente. A la fin, le programme affiche le nombre moyen de tentatives qu'il a fallu à l'utilisateur pour répondre à une question."
   ],
   "cell_type": "markdown",
   "metadata": {}
  },
  {
   "cell_type": "code",
   "execution_count": 4,
   "metadata": {
    "tags": []
   },
   "outputs": [
    {
     "output_type": "stream",
     "name": "stdout",
     "text": [
      "Bonne réponse ! C'est bien  6\n"
     ]
    }
   ],
   "source": [
    "#Première demande \n",
    "import random\n",
    "\n",
    "nombre_aleatoire1 = random.randint(0, 9)\n",
    "nombre_aleatoire2 = random.randint(0, 9)\n",
    "valeur_absolue = abs(nombre_aleatoire1 - nombre_aleatoire2)\n",
    "\n",
    "reponse = int(input(\"Quel est la valeur absolue de \" + str(nombre_aleatoire1) + \" - \" + str(nombre_aleatoire2) + \" ? \"))\n",
    "\n",
    "while valeur_absolue != reponse :\n",
    "    print(\"Faux ! Recommencez !!\")\n",
    "    reponse = int(input(\"Quel est valeur absolue de \" + str(nombre_aleatoire1) + \" - \" + str(nombre_aleatoire2) + \" ?\"))\n",
    "\n",
    "print(\"Bonne réponse ! C'est bien \", valeur_absolue)"
   ]
  },
  {
   "cell_type": "code",
   "execution_count": 12,
   "metadata": {
    "tags": []
   },
   "outputs": [
    {
     "output_type": "stream",
     "name": "stdout",
     "text": [
      "Vous avez 5 chances pour répondre à la question suivante !\n",
      "Faux ! Recommencez !!\n",
      "Faux ! Recommencez !!\n",
      "Faux ! Recommencez !!\n",
      "La bonne réponse était 5 Vous avez fait 4 tentatives\n"
     ]
    }
   ],
   "source": [
    "#deuxième demande\n",
    "\n",
    "import random\n",
    "\n",
    "nombre_aleatoire1 = random.randint(0, 9)\n",
    "nombre_aleatoire2 = random.randint(0, 9)\n",
    "difference = nombre_aleatoire1 - nombre_aleatoire2\n",
    "valeur_absolue = abs(difference)\n",
    "tentative = 0\n",
    "\n",
    "print(\"Vous avez 5 chances pour répondre à la question suivante !\")\n",
    "reponse = int(input(\"Quel est la valeur absolue de l\" + str(nombre_aleatoire1) + \" - \" + str(nombre_aleatoire2) + \"l ? \"))\n",
    "\n",
    "while valeur_absolue != reponse and tentative != 4 :\n",
    "    tentative += 1\n",
    "    print(\"Faux ! Recommencez !!\")\n",
    "    reponse = int(input(\"Quel est valeur absolue de \" + str(nombre_aleatoire1) + \" - \" + str(nombre_aleatoire2) + \" ? \"))\n",
    "\n",
    "print(\"La bonne réponse était\", valeur_absolue, \"! Vous avez fait\", tentative + 1, \"tentatives\")\n"
   ]
  },
  {
   "source": [
    "**Exercice 13:**\n",
    "\n",
    "Ecrire un programme qui permet de calculer le nombre de mots dans une phrase saisie par l'utilisateur."
   ],
   "cell_type": "markdown",
   "metadata": {}
  },
  {
   "cell_type": "code",
   "execution_count": null,
   "metadata": {
    "slideshow": {
     "slide_type": "notes"
    }
   },
   "outputs": [],
   "source": [
    "phrase = str(input(\"Ecris une phrase\"))\n"
   ]
  },
  {
   "cell_type": "markdown",
   "metadata": {
    "slideshow": {
     "slide_type": "slide"
    }
   },
   "source": [
    "---\n",
    "\n",
    "## 4. Pour s'entraîner\n",
    "\n",
    "**Exercice 14:**\n",
    "    \n",
    "Soit la variable my_input = \"zoophysiology\". Ecrire un script qui permet d'afficher l'un des messages suivants en fonction du nombre maximum de *o* consécutifs dans la variable *my_input*. Par exemple, le script doit afficher \"I like studying birds! I want to become an ornithologist!\" parce qu'il y a deux *o* consécutifs, même s'il y a aussi des *o* individual.\n",
    "Ignorer les *o* majuscules - recherchez que les *o* minuscules.\n",
    "\n",
    "* Si \"o\" apparaît trois fois ou plus de suite, afficher le message \"I like going to the zoo!\"  \n",
    "* Si \"o\" apparaît deux fois, afficher le message \"I like studying birds! I want to become an ornithologist!\"  \n",
    "* Si \"o\" apparaît une seule fois, afficher le message \"I like studying fish! I want to become an ichthyologist!\"  \n",
    "* Si \"o\" n'apparaît pas dans la variable *my_input*, afficher le message \"I miss going to the zoo!\"  \n",
    "\n",
    "**Astuce :** Utiliser l'opérateur **in** qui renvoie **True** si la première chaîne se trouve dans la deuxième chaîne. "
   ]
  },
  {
   "cell_type": "code",
   "execution_count": 48,
   "metadata": {},
   "outputs": [
    {
     "output_type": "stream",
     "name": "stdout",
     "text": [
      "['o', 'o'] ['z', 'o', 'o', 'p', 'h', 'y', 's', 'i', 'o', 'l', 'o', 'g', 'y']\n"
     ]
    }
   ],
   "source": [
    "my_input = \"zoophysiology\"\n",
    "liste = list(str(my_input))\n",
    "liste1 = [\"o\", \"o\", \"o\"]\n",
    "print(liste1[0:2], liste)\n",
    "\n",
    "if liste1[0:2] in liste:\n",
    "    print(\"caca\")"
   ]
  },
  {
   "cell_type": "markdown",
   "metadata": {
    "slideshow": {
     "slide_type": "slide"
    }
   },
   "source": [
    "**Exercice 15:**\n",
    "    \n",
    "Créer quatre variables nommées *team_1* et *team_2*, représentant deux noms d'équipes, et *team_1_score* et *team_2_score*, représentant les scores de ces deux équipes. \n",
    "Une équipe gagne si son score est supérieur à l'autre score de l'autre équipe.\n",
    " \n",
    "Ecrire un premier script qui permet d'afficher les messages suivants selon les valeurs entrées, ceci en utilisant seulement les quatres variables créées :\n",
    "* Si une équipe bat l'autre, affichez: \"\\[winner\\] beat \\[loser\\] by \\[margin\\]\"\n",
    "* Si aucune des équipes n'a gagné, affichez: \"\\[team_1\\] played \\[team_2\\] and it was a tie\"\n",
    "\n",
    "Ecrire un deuxième script qui permet d'afficher les mêmes messages mais en ajoutant trois variables de plus :\n",
    "* La variable *winner* pour définir l'équipe gagnante  \n",
    "* La variable *loser* pour définier l'équipe perdante  \n",
    "* La variable *margin* pour définir la différence entre les deux scores \n"
   ]
  },
  {
   "cell_type": "code",
   "execution_count": 10,
   "metadata": {
    "slideshow": {
     "slide_type": "notes"
    }
   },
   "outputs": [
    {
     "output_type": "stream",
     "name": "stdout",
     "text": [
      "Chacha beat Yinyin by 10\n"
     ]
    }
   ],
   "source": [
    "#premier script\n",
    "team_1 = \"Chacha\"\n",
    "team_2 = \"Yinyin\"\n",
    "team_1_score = 15\n",
    "team_2_score = 5\n",
    "\n",
    "if team_1_score > team_2_score:\n",
    "    print(team_1, \"beat\", team_2, \"by\", team_1_score -  team_2_score )\n",
    "elif team_2_score > team_1_score:\n",
    "     print(team_2, \"beat\", team_1, \"by\", team_1_score - team_2_score )\n",
    "else:\n",
    "    print(team_1, \"played\", team_2, \"and it was a tie\")"
   ]
  },
  {
   "cell_type": "code",
   "execution_count": 24,
   "metadata": {
    "slideshow": {
     "slide_type": "notes"
    }
   },
   "outputs": [
    {
     "output_type": "stream",
     "name": "stdout",
     "text": [
      "Chacha beat Yinyin by 10\n"
     ]
    }
   ],
   "source": [
    "#deuxième script\n",
    "\n",
    "team_1 = \"Chacha\"\n",
    "team_2 = \"Yinyin\"\n",
    "team_1_score = 35\n",
    "team_2_score = 25\n",
    "\n",
    "margin = abs(team_1_score - team_2_score) \n",
    "\n",
    "if team_1_score != team_2_score:\n",
    "    if team_1_score > team_2_score:\n",
    "        winner = team_1\n",
    "        loser = team_2\n",
    "    else:\n",
    "        winner = team_2\n",
    "        loser = team_1\n",
    "    print(winner, \"beat\", loser, \"by\", margin)\n",
    "else:\n",
    "    print(team_1, \"played\", team_2, \"and it was a tie\")"
   ]
  },
  {
   "cell_type": "markdown",
   "metadata": {
    "slideshow": {
     "slide_type": "slide"
    }
   },
   "source": [
    "**Exercice 16:**\n",
    "    \n",
    "L'Indice de Masse Corporelle (IMC) permet d'estimer le poids idéal en fonction de la taille. Son calcul correspond au poids en kilogrammes divisé par le carré de la taille en mètre (IMC = poids en kg/taille² en m). Le chiffre obtenu permet d'estimer la corpulence et éventuellement le surpoids ou l'obésité chez l'adulte, homme ou femme.\n",
    "L'interprétation de l'IMC pour les personnes de 16 ans et plus est la suivante :\n",
    "* Moins de 18.5: Underweight\n",
    "* Entre 18.5 et 24.9: Normal\n",
    "* Entre 25.0 et 29.9: Overweight\n",
    "* Plus que 30.0: Obese\n",
    "\n",
    "Ecrire un programme qui permet de saisir un poids en *pounds* et une taille en *inches*, de calculer et d'afficher l'IMC à deux valeurs après la virgule, et d'afficher l'interprétation la plus adéquate. Notez qu'un *pound* équivaut à 0,45359237 kilogrammes et qu'un *inch* équivaut à 0,0254 mètre.  \n",
    "\n",
    "**Astuce :** Pour afficher deux valeurs après la virgule, utilisez la fonction **format(nom_variable, \".2f\")**. Exemple : **print('La moyenne est :', format(moyenne, \".2f\"))**"
   ]
  },
  {
   "cell_type": "code",
   "execution_count": 22,
   "metadata": {
    "slideshow": {
     "slide_type": "notes"
    }
   },
   "outputs": [
    {
     "output_type": "stream",
     "name": "stdout",
     "text": [
      "Ton imc est 19.03 ! Tu es normal [normal], c'est bien continue comme ça\n57.60623099 1.7399 19.029215539277153\n"
     ]
    }
   ],
   "source": [
    "valeur_pound_en_kilo = 0.45359237\n",
    "valeur_inch_en_metre = 0.0254\n",
    "\n",
    "poids_utilisateur = float(input(\"Quel est ton poids (en pounds) ?\"))\n",
    "taille_utilisateur = float(input(\"Quelle est ta taille (en inch) ?\"))\n",
    "\n",
    "poids_kilo = poids_utilisateur * valeur_pound_en_kilo\n",
    "taille_metre = taille_utilisateur * valeur_inch_en_metre\n",
    "\n",
    "imc = poids_kilo/(taille_metre)**2\n",
    "\n",
    "if imc >= 30.0:\n",
    "    print(\"Votre Imc est\", format(imc, \".2f\"), \"! Vous êtes obèse [obese]. Pensez à perdre du poids, c'est pas bien pour la santé!\")\n",
    "elif imc >= 25.0 and imc <= 29.9:\n",
    "    print(\"Ton Imc est\", format(imc, \".2f\"), \"! Tu es en surpoids [overweight] bg!\")\n",
    "elif imc >= 18.5 and imc <= 24.9:\n",
    "    print(\"Ton imc est\", format(imc, \".2f\"), \"! Tu es normal [normal], c'est bien continue comme ça!\")\n",
    "else:\n",
    "    print(\"Ton imc est\", format(imc, \".2f\"), \"! Tu es en sous poids [underweight], fais attention à toi, c'est dangereux!\")"
   ]
  },
  {
   "source": [
    "**Exercice 17:**\n",
    "\n",
    "Ecrire un programme qui affiche un triangle d'étoiles de taille donnée, par exemple si on entre 6, le programme affiche:\n",
    "```\n",
    "*\n",
    "**\n",
    "***\n",
    "****\n",
    "*****\n",
    "******\n",
    "```"
   ],
   "cell_type": "markdown",
   "metadata": {}
  },
  {
   "cell_type": "code",
   "execution_count": 30,
   "metadata": {
    "tags": []
   },
   "outputs": [
    {
     "output_type": "stream",
     "name": "stdout",
     "text": [
      "*\n**\n***\n****\n*****\n******\n*******\n********\n*********\n**********\n***********\n************\n*************\n**************\n***************\n****************\n*****************\n******************\n*******************\n********************\n*********************\n**********************\n***********************\n************************\n*************************\n"
     ]
    }
   ],
   "source": [
    "etoile = \"*\"\n",
    "chiffre = int(input(\"Choisi un nombre entier ( petit c'est mieux )\"))\n",
    "nombre_etoile = 0\n",
    "while chiffre != nombre_etoile:\n",
    "    nombre_etoile +=1\n",
    "    print(etoile * nombre_etoile)"
   ]
  },
  {
   "source": [
    "**Exercice 18:**\n",
    "\n",
    "Même exercice mais cette fois la sortie est\n",
    "```\n",
    "     *\n",
    "    **         \n",
    "   ***\n",
    "  ****\n",
    " *****\n",
    "******\n",
    "```"
   ],
   "cell_type": "markdown",
   "metadata": {}
  },
  {
   "cell_type": "code",
   "execution_count": 47,
   "metadata": {
    "tags": []
   },
   "outputs": [
    {
     "output_type": "stream",
     "name": "stdout",
     "text": [
      "                                                                                                                        \n                                                                                                                       *\n                                                                                                                      **\n                                                                                                                     ***\n                                                                                                                    ****\n                                                                                                                   *****\n                                                                                                                  ******\n                                                                                                                 *******\n                                                                                                                ********\n                                                                                                               *********\n                                                                                                              **********\n                                                                                                             ***********\n                                                                                                            ************\n                                                                                                           *************\n                                                                                                          **************\n                                                                                                         ***************\n                                                                                                        ****************\n                                                                                                       *****************\n                                                                                                      ******************\n                                                                                                     *******************\n                                                                                                    ********************\n                                                                                                   *********************\n                                                                                                  **********************\n                                                                                                 ***********************\n                                                                                                ************************\n                                                                                               *************************\n                                                                                              **************************\n                                                                                             ***************************\n                                                                                            ****************************\n                                                                                           *****************************\n                                                                                          ******************************\n                                                                                         *******************************\n                                                                                        ********************************\n                                                                                       *********************************\n                                                                                      **********************************\n                                                                                     ***********************************\n                                                                                    ************************************\n                                                                                   *************************************\n                                                                                  **************************************\n                                                                                 ***************************************\n                                                                                ****************************************\n                                                                               *****************************************\n                                                                              ******************************************\n                                                                             *******************************************\n                                                                            ********************************************\n                                                                           *********************************************\n                                                                          **********************************************\n                                                                         ***********************************************\n                                                                        ************************************************\n                                                                       *************************************************\n                                                                      **************************************************\n                                                                     ***************************************************\n                                                                    ****************************************************\n                                                                   *****************************************************\n                                                                  ******************************************************\n                                                                 *******************************************************\n                                                                ********************************************************\n                                                               *********************************************************\n                                                              **********************************************************\n                                                             ***********************************************************\n                                                            ************************************************************\n                                                           *************************************************************\n                                                          **************************************************************\n                                                         ***************************************************************\n                                                        ****************************************************************\n                                                       *****************************************************************\n                                                      ******************************************************************\n                                                     *******************************************************************\n                                                    ********************************************************************\n                                                   *********************************************************************\n                                                  **********************************************************************\n                                                 ***********************************************************************\n                                                ************************************************************************\n                                               *************************************************************************\n                                              **************************************************************************\n                                             ***************************************************************************\n                                            ****************************************************************************\n                                           *****************************************************************************\n                                          ******************************************************************************\n                                         *******************************************************************************\n                                        ********************************************************************************\n                                       *********************************************************************************\n                                      **********************************************************************************\n                                     ***********************************************************************************\n                                    ************************************************************************************\n                                   *************************************************************************************\n                                  **************************************************************************************\n                                 ***************************************************************************************\n                                ****************************************************************************************\n                               *****************************************************************************************\n                              ******************************************************************************************\n                             *******************************************************************************************\n                            ********************************************************************************************\n                           *********************************************************************************************\n                          **********************************************************************************************\n                         ***********************************************************************************************\n                        ************************************************************************************************\n                       *************************************************************************************************\n                      **************************************************************************************************\n                     ***************************************************************************************************\n                    ****************************************************************************************************\n                   *****************************************************************************************************\n                  ******************************************************************************************************\n                 *******************************************************************************************************\n                ********************************************************************************************************\n               *********************************************************************************************************\n              **********************************************************************************************************\n             ***********************************************************************************************************\n            ************************************************************************************************************\n           *************************************************************************************************************\n          **************************************************************************************************************\n         ***************************************************************************************************************\n        ****************************************************************************************************************\n       *****************************************************************************************************************\n      ******************************************************************************************************************\n     *******************************************************************************************************************\n    ********************************************************************************************************************\n   *********************************************************************************************************************\n  **********************************************************************************************************************\n ***********************************************************************************************************************\n"
     ]
    }
   ],
   "source": [
    "etoile = \"*\"\n",
    "espace = \" \"\n",
    "chiffre = int(input(\"Choisi un nombre entier ( moins de 120 de préfèrence)\"))\n",
    "nombre_espace = chiffre\n",
    "for i in range(chiffre + 1):\n",
    "    print(espace * nombre_espace, etoile * i)\n",
    "    nombre_espace -= 1"
   ]
  },
  {
   "source": [
    "**Exercice 19:**\n",
    "\n",
    "Ecrire un programme qui calcule, étant donné un entier *n* rentré par l'utilisateur, la plus grande puissance de *n* inférieure à un million."
   ],
   "cell_type": "markdown",
   "metadata": {}
  },
  {
   "cell_type": "code",
   "execution_count": 3,
   "metadata": {
    "tags": []
   },
   "outputs": [
    {
     "output_type": "stream",
     "name": "stdout",
     "text": [
      "La plus grande puissance de 2 inférieur à un million est 524288 ! Elle est obtenue lorsque 20 est son exposant.\n"
     ]
    }
   ],
   "source": [
    "#ça ne marrchhe pas, tant pis\n",
    "nombre_utilisateur = int(input(\"Ecris un entier\"))\n",
    "puissance = 0\n",
    "nombre_finale = 0\n",
    "\n",
    "while nombre_finale < 10 ** 6 :\n",
    "    nombre_finale = nombre_utilisateur ** puissance\n",
    "    puissance += 1\n",
    "\n",
    "print(\"La plus grande puissance de\", nombre_utilisateur, \"inférieur à un million est\", nombre_finale, \"! Elle est obtenue lorsque\", puissance, \"est son exposant.\")\n"
   ]
  },
  {
   "cell_type": "code",
   "execution_count": null,
   "metadata": {},
   "outputs": [],
   "source": []
  }
 ],
 "metadata": {
  "celltoolbar": "Diaporama",
  "kernelspec": {
   "display_name": "Python 3",
   "language": "python",
   "name": "python3"
  },
  "language_info": {
   "codemirror_mode": {
    "name": "ipython",
    "version": 3
   },
   "file_extension": ".py",
   "mimetype": "text/x-python",
   "name": "python",
   "nbconvert_exporter": "python",
   "pygments_lexer": "ipython3",
   "version": "3.8.3-final"
  }
 },
 "nbformat": 4,
 "nbformat_minor": 4
}